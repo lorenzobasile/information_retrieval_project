{
 "cells": [
  {
   "cell_type": "code",
   "execution_count": 10,
   "metadata": {},
   "outputs": [],
   "source": [
    "import numpy as np\n",
    "from scipy import sparse\n",
    "import matplotlib.pyplot as plt\n",
    "from sklearn.tree import DecisionTreeClassifier\n",
    "from sklearn.ensemble import RandomForestClassifier\n",
    "from sklearn.model_selection import cross_val_predict\n",
    "from sklearn.metrics import accuracy_score as accuracy\n",
    "from sklearn.metrics import precision_score as precision\n",
    "from sklearn.metrics import recall_score as recall\n",
    "from module import * #python module containing custom functions\n",
    "np.random.seed(2) #random seed for reproducibility"
   ]
  },
  {
   "cell_type": "markdown",
   "metadata": {},
   "source": [
    "The [WEBSPAM-UK2006](https://chato.cl/webspam/datasets/uk2006/) dataset contains 11402 hosts in the `.uk` domain, of which 7866 are labeled as *spam* or *normal*. Newer datasets have been released by the same authors, but this 2006 version remains the one with the highest number of manually labeled samples.\\\n",
    "The file `new_hostnames.csv` contains the names of the hosts in the dataset, while `webspam-uk2006-labels.txt` assigns to 8045 host names a label chosen among *spam*, *normal* or *undecided*. For the purposes of this project, *undecided*-labeled hosts were considered unlabeled, leaving only 7866 hosts labeled as *spam* or *normal*.\\\n",
    "Finally, the file `uk-2006-05.hostgraph_weighted.txt` contains the weighted graph of the hosts, each row containing a host index, the indices of outlinked hosts and, for each of them, the number of outlinks.\\\n",
    "The function `read_graph` returns a sparse `csr_matrix` $\\mathcal{R}$, with $\\mathcal{R}_{i,j}$ equal to the number of outlinks from host $i$ to host $j$ divided by the total number of outlinks of host $i$.\\\n",
    "Since PageRank algorithm requires a stochastic matrix, but there is no guarantee that each host has at least one outlink (dangling node problem), as proposed in Andersen et al., an artificial node with a single self-loop was added to the graph, with ingoing edges from all dangling nodes."
   ]
  },
  {
   "cell_type": "code",
   "execution_count": 2,
   "metadata": {},
   "outputs": [],
   "source": [
    "hostnames=hostnames_list('data/new_hostnames.csv')\n",
    "labels_dict=labels_dictionary('data/webspam-uk2006/webspam-uk2006-labels.txt')\n",
    "labels, labeled_dataset=make_dataset(labels_dict,hostnames)\n",
    "R=read_graph('data/uk-2006-05.hostgraph_weighted.txt',len(hostnames))"
   ]
  },
  {
   "cell_type": "markdown",
   "metadata": {},
   "source": [
    "For the following computations, it is useful to store the columns of the $\\mathcal{R}$ matrix in a list."
   ]
  },
  {
   "cell_type": "code",
   "execution_count": 3,
   "metadata": {},
   "outputs": [],
   "source": [
    "columns=columns_list(R)"
   ]
  },
  {
   "cell_type": "markdown",
   "metadata": {},
   "source": [
    "In the following cell PageRank is computed iteratively, according to the equation:\n",
    "$$\n",
    "{rank}_{k+1}^T=\\frac{\\alpha}{N}\\mathbf{1}^T+(1-\\alpha)R^T\\cdot {rank}_k^T\n",
    "$$\n",
    "where ${rank}_k$ is the row vector storing the PageRank scores at step $k$, $\\mathbf{1}$ is a row vector of ones, $N$ is the number of nodes (in this case 11403) and $\\alpha$ is the teleporting factor. The iterative computation is performed up to a fixed precision of $\\epsilon$.\\\n",
    "\\\n",
    "Personalized PageRank is an algorithm directly derived from PageRank, whose result is a matrix $\\mathcal{PRM}$ such that $\\mathcal{PRM}_{i,j}$ is the contribution of node $i$ to the PageRank of node $j$. This implies that the sum of $\\mathcal{PRM}$ is equal to the PageRank vector."
   ]
  },
  {
   "cell_type": "code",
   "execution_count": 5,
   "metadata": {},
   "outputs": [
    {
     "name": "stdout",
     "output_type": "stream",
     "text": [
      "PageRank computation\n",
      "PageRank computed\n",
      "Approximation of Personalized PageRank for labeled hosts\n",
      "7865/7866\r"
     ]
    }
   ],
   "source": [
    "alpha=.01\n",
    "eps=1e-8\n",
    "delta=1e-3\n",
    "\n",
    "print(\"PageRank computation\")\n",
    "rank=compute_PR(alpha,eps,R)\n",
    "nl=len(labeled_dataset)\n",
    "ap=np.zeros((nl,len(rank)))\n",
    "print(\"Approximation of Personalized PageRank for labeled hosts\")\n",
    "for v in range(nl):\n",
    "    print(str(v)+'/'+str(nl),end='\\r')\n",
    "    ap[v]=(approximate_contributions(labeled_dataset[v], alpha, delta*rank[labeled_dataset[v]], rank[labeled_dataset[v]], columns))"
   ]
  },
  {
   "cell_type": "code",
   "execution_count": 6,
   "metadata": {},
   "outputs": [],
   "source": [
    "x=extract_features(R,delta,ap,labeled_dataset,rank)\n",
    "y=labels[labeled_dataset]"
   ]
  },
  {
   "cell_type": "markdown",
   "metadata": {},
   "source": [
    "Spam detection is particularly relevant for high PageRank hosts, since people tend to click on highly ranked pages, often within the first page of search engine results.\\\n",
    "However, we can see that PageRank alone is not able to filter out spam pages. In fact, if we restrict our view to the highest ranked 25% of the dataset, 161 hosts out of 2095 (total labeled hosts in this 25%) are labeled as spam, as opposed to 773/7866 on the entire dataset. The proportion of spam hosts drops from 9.8% to 7.7%, but that is surely not enough to consider PageRank as a spam detection or spam-robust algorithm."
   ]
  },
  {
   "cell_type": "code",
   "execution_count": 7,
   "metadata": {},
   "outputs": [
    {
     "name": "stdout",
     "output_type": "stream",
     "text": [
      "[  47   94  121 ... 7854 7863 7864]\n"
     ]
    }
   ],
   "source": [
    "n=25\n",
    "labeled_top=top_n_percent(n,rank,labeled_dataset)\n",
    "print(labeled_top)\n",
    "\n",
    "x_top=x[labeled_top]\n",
    "y_top=y[labeled_top]\n",
    "\n",
    "print(sum(y_top), len(y_top), sum(y), len(y))"
   ]
  },
  {
   "cell_type": "code",
   "execution_count": 14,
   "metadata": {},
   "outputs": [
    {
     "name": "stdout",
     "output_type": "stream",
     "text": [
      "161 2095 773 7866\n",
      "0.7013729977116705 [0.99252492 0.24163934] [0.67390385 0.9534282 ]\n",
      "0.8960081362827358 [0.9402273  0.46955345] [0.94473425 0.44890039]\n",
      "0.9210526315789473 [0.94365232 0.63286713] [0.97039335 0.4683053 ]\n",
      "0.9045346062052506 [0.99884925 0.44537815] [0.89762151 0.98757764]\n",
      "0.9369928400954654 [0.96732365 0.58682635] [0.96432265 0.60869565]\n",
      "0.9479713603818616 [0.96484972 0.6969697 ] [0.97931748 0.57142857]\n"
     ]
    }
   ],
   "source": [
    "clf=DecisionTreeClassifier(max_depth=1,class_weight='balanced')\n",
    "pred=cross_val_predict(clf,x,y,cv=10)\n",
    "print(accuracy(y,pred),precision(y,pred,average=None),recall(y,pred,average=None))\n",
    "\n",
    "clf=DecisionTreeClassifier(class_weight='balanced')\n",
    "pred=cross_val_predict(clf,x,y,cv=10)\n",
    "print(accuracy(y,pred),precision(y,pred,average=None),recall(y,pred,average=None))\n",
    "\n",
    "clf=RandomForestClassifier(class_weight='balanced_subsample')\n",
    "pred=cross_val_predict(clf,x,y,cv=10)\n",
    "print(accuracy(y,pred),precision(y,pred,average=None),recall(y,pred,average=None))\n",
    "\n",
    "\n",
    "\n",
    "clf=DecisionTreeClassifier(max_depth=1,class_weight='balanced')\n",
    "pred=cross_val_predict(clf,x_top,y_top,cv=10)\n",
    "print(accuracy(y_top,pred),precision(y_top,pred,average=None),recall(y_top,pred,average=None))\n",
    "\n",
    "clf=DecisionTreeClassifier(class_weight='balanced')\n",
    "pred=cross_val_predict(clf,x_top,y_top,cv=10)\n",
    "print(accuracy(y_top,pred),precision(y_top,pred,average=None),recall(y_top,pred,average=None))\n",
    "\n",
    "clf=RandomForestClassifier(class_weight='balanced_subsample')\n",
    "pred=cross_val_predict(clf,x_top,y_top,cv=10)\n",
    "print(accuracy(y_top,pred),precision(y_top,pred,average=None),recall(y_top,pred,average=None))\n"
   ]
  },
  {
   "cell_type": "code",
   "execution_count": null,
   "metadata": {},
   "outputs": [],
   "source": []
  }
 ],
 "metadata": {
  "kernelspec": {
   "display_name": "Python 3",
   "language": "python",
   "name": "python3"
  },
  "language_info": {
   "codemirror_mode": {
    "name": "ipython",
    "version": 3
   },
   "file_extension": ".py",
   "mimetype": "text/x-python",
   "name": "python",
   "nbconvert_exporter": "python",
   "pygments_lexer": "ipython3",
   "version": "3.7.1"
  }
 },
 "nbformat": 4,
 "nbformat_minor": 4
}
