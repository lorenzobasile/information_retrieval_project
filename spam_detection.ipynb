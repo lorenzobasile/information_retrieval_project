{
 "cells": [
  {
   "cell_type": "code",
   "execution_count": 1,
   "metadata": {},
   "outputs": [],
   "source": [
    "import numpy as np\n",
    "from scipy import sparse\n",
    "import matplotlib.pyplot as plt\n",
    "from sklearn.tree import DecisionTreeClassifier\n",
    "from sklearn.ensemble import RandomForestClassifier\n",
    "from sklearn.model_selection import cross_val_predict\n",
    "from module import *\n",
    "np.random.seed(2)"
   ]
  },
  {
   "cell_type": "code",
   "execution_count": 2,
   "metadata": {},
   "outputs": [],
   "source": [
    "hostnames=hostnames_list('data/new_hostnames.csv')\n",
    "labels_dict=labels_dictionary('data/webspam-uk2006/webspam-uk2006-labels.txt')\n",
    "labels, labeled_dataset=make_dataset(labels_dict,hostnames)"
   ]
  },
  {
   "cell_type": "code",
   "execution_count": 3,
   "metadata": {},
   "outputs": [],
   "source": [
    "R=read_graph('data/uk-2006-05.hostgraph_weighted.txt')\n",
    "columns=column_list(R)"
   ]
  },
  {
   "cell_type": "code",
   "execution_count": 5,
   "metadata": {},
   "outputs": [
    {
     "name": "stdout",
     "output_type": "stream",
     "text": [
      "PR computation\n",
      "Approximation of PPR for labeled hosts\n",
      "7865/7866\r"
     ]
    }
   ],
   "source": [
    "alpha=.01\n",
    "eps=1e-8\n",
    "delta=1e-3\n",
    "\n",
    "print(\"PR computation\")\n",
    "rank=compute_PR(alpha,eps,R)\n",
    "nl=len(labeled_dataset)\n",
    "ap=np.zeros((nl,len(rank)))\n",
    "print(\"Approximation of PPR for labeled hosts\")\n",
    "for v in range(nl):\n",
    "    print(str(v)+'/'+str(nl),end='\\r')\n",
    "    ap[v]=(approximate_contributions(labeled_dataset[v], alpha, delta*rank[labeled_dataset[v]], rank[labeled_dataset[v]], columns))"
   ]
  },
  {
   "cell_type": "code",
   "execution_count": 6,
   "metadata": {},
   "outputs": [],
   "source": [
    "x=extract_features(R,delta,ap,labeled_dataset,rank)\n",
    "y=labels[labeled_dataset]"
   ]
  },
  {
   "cell_type": "code",
   "execution_count": 7,
   "metadata": {},
   "outputs": [
    {
     "name": "stdout",
     "output_type": "stream",
     "text": [
      "[  47   94  121 ... 7854 7863 7864]\n"
     ]
    }
   ],
   "source": [
    "n=25\n",
    "labeled_top=top_n_percent(n,rank,labeled_dataset)\n",
    "print(labeled_top)"
   ]
  },
  {
   "cell_type": "code",
   "execution_count": 8,
   "metadata": {},
   "outputs": [
    {
     "name": "stdout",
     "output_type": "stream",
     "text": [
      "3050\n",
      "(0.7013729977116705, 0.24163934426229508, 0.9534282018111255)\n",
      "734\n",
      "(0.8961352657004831, 0.47002724795640327, 0.4463130659767141)\n",
      "581\n",
      "(0.9206712433257056, 0.6282271944922547, 0.4721862871927555)\n",
      "357\n",
      "(0.9045346062052506, 0.44537815126050423, 0.9875776397515528)\n",
      "164\n",
      "(0.9374701670644391, 0.5914634146341463, 0.6024844720496895)\n",
      "132\n",
      "(0.9451073985680191, 0.6742424242424242, 0.5527950310559007)\n"
     ]
    }
   ],
   "source": [
    "x_top=x[labeled_top]\n",
    "y_top=y[labeled_top]\n",
    "\n",
    "\n",
    "clf=DecisionTreeClassifier(max_depth=1,class_weight='balanced')\n",
    "print(get_metrics(cross_val_predict(clf,x,y,cv=10),y))\n",
    "\n",
    "clf=DecisionTreeClassifier(class_weight='balanced')\n",
    "print(get_metrics(cross_val_predict(clf,x,y,cv=10),y))\n",
    "\n",
    "clf=RandomForestClassifier(class_weight='balanced_subsample')\n",
    "print(get_metrics(cross_val_predict(clf,x,y,cv=10),y))\n",
    "\n",
    "\n",
    "\n",
    "clf=DecisionTreeClassifier(max_depth=1,class_weight='balanced')\n",
    "print(get_metrics(cross_val_predict(clf,x_top,y_top,cv=10),y_top))\n",
    "\n",
    "clf=DecisionTreeClassifier(class_weight='balanced')\n",
    "print(get_metrics(cross_val_predict(clf,x_top,y_top,cv=10),y_top))\n",
    "\n",
    "clf=RandomForestClassifier(class_weight='balanced_subsample')\n",
    "print(get_metrics(cross_val_predict(clf,x_top,y_top,cv=10),y_top))\n"
   ]
  },
  {
   "cell_type": "code",
   "execution_count": null,
   "metadata": {},
   "outputs": [],
   "source": []
  }
 ],
 "metadata": {
  "kernelspec": {
   "display_name": "Python 3",
   "language": "python",
   "name": "python3"
  },
  "language_info": {
   "codemirror_mode": {
    "name": "ipython",
    "version": 3
   },
   "file_extension": ".py",
   "mimetype": "text/x-python",
   "name": "python",
   "nbconvert_exporter": "python",
   "pygments_lexer": "ipython3",
   "version": "3.6.9"
  }
 },
 "nbformat": 4,
 "nbformat_minor": 4
}
