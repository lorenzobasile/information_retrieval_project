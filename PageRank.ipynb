{
 "cells": [
  {
   "cell_type": "code",
   "execution_count": null,
   "metadata": {},
   "outputs": [],
   "source": [
    "import numpy as np\n",
    "from scipy import sparse\n",
    "import matplotlib.pyplot as plt\n",
    "from sklearn.preprocessing import normalize"
   ]
  },
  {
   "cell_type": "code",
   "execution_count": null,
   "metadata": {},
   "outputs": [],
   "source": [
    "def hostnames_list(filename):\n",
    "    hostnames=[]\n",
    "    with open(filename, 'r') as file:\n",
    "        for line in file:\n",
    "            line=line.split()\n",
    "            hostnames.append(line[1])\n",
    "    return hostnames"
   ]
  },
  {
   "cell_type": "code",
   "execution_count": null,
   "metadata": {},
   "outputs": [],
   "source": [
    "hostnames=hostnames_list('data/webspam-uk2007-set1-1.0/WEBSPAM-UK2007-hostnames.txt')"
   ]
  },
  {
   "cell_type": "code",
   "execution_count": null,
   "metadata": {},
   "outputs": [],
   "source": [
    "def read_graph(filename):\n",
    "    outlinks=[]\n",
    "    i=0\n",
    "    with open(filename, 'r') as file:\n",
    "        size=int(file.readline())\n",
    "        mat=sparse.lil_matrix((size+1,size+1))\n",
    "        for line in file:\n",
    "            line=line.split()\n",
    "            valid_outlinks=0\n",
    "            l=len(line)\n",
    "            if(l>0):\n",
    "                for outlink in line:\n",
    "                    outlink=outlink.split(':')\n",
    "                    j=int(outlink[0])\n",
    "                    mat[i,j]=1/l\n",
    "            else:\n",
    "                mat[i,-1]=1         \n",
    "            i+=1\n",
    "    mat[-1,-1]=1\n",
    "    return mat.tocsr()"
   ]
  },
  {
   "cell_type": "code",
   "execution_count": null,
   "metadata": {},
   "outputs": [],
   "source": [
    "def PR_iteration(old_pr,R,n,alpha):\n",
    "    P=(1-alpha)*R.T #allocations reduced and scipy code is used\n",
    "    new_pr=alpha/n*np.ones(n)+P.dot(old_pr)\n",
    "    return new_pr"
   ]
  },
  {
   "cell_type": "code",
   "execution_count": null,
   "metadata": {},
   "outputs": [],
   "source": [
    "def compute_PR(alpha,epsilon,R):\n",
    "    n=R.get_shape()[0]\n",
    "    x=np.random.rand(n)\n",
    "    x/=x.sum()\n",
    "    err=np.inf\n",
    "    while(err>epsilon):\n",
    "        x_new=PR_iteration(x,R,n,alpha)\n",
    "        err=(abs(x_new-x)).sum()\n",
    "        print(f\"Error:{err}\")\n",
    "        x=x_new    \n",
    "    return x"
   ]
  },
  {
   "cell_type": "code",
   "execution_count": null,
   "metadata": {
    "scrolled": true
   },
   "outputs": [],
   "source": [
    "def slice_matrix(matrix, indices):\n",
    "    ncols=matrix.get_shape()[0]\n",
    "    aux_matrix=sparse.lil_matrix((len(indices),ncols))\n",
    "    for i in range(len(indices)):\n",
    "        aux_matrix[i,indices[i]]=1\n",
    "    aux_matrix.tocsr()\n",
    "    new_matrix=aux_matrix.dot(matrix.dot(aux_matrix.transpose()))\n",
    "    normalize(new_matrix, norm='l1',axis=1,copy=False)\n",
    "    return new_matrix"
   ]
  },
  {
   "cell_type": "code",
   "execution_count": null,
   "metadata": {},
   "outputs": [],
   "source": [
    "R=read_graph('data/uk-2007-05.hostgraph_weighted_graph.txt')"
   ]
  },
  {
   "cell_type": "code",
   "execution_count": null,
   "metadata": {},
   "outputs": [],
   "source": [
    "print(type(R))\n",
    "PR=compute_PR(0.2,0.01,R)"
   ]
  },
  {
   "cell_type": "code",
   "execution_count": null,
   "metadata": {},
   "outputs": [],
   "source": [
    "rank=np.squeeze(np.asarray(PR))\n",
    "rank=rank[:-1]/rank[:-1].sum()\n",
    "print(rank)"
   ]
  },
  {
   "cell_type": "code",
   "execution_count": null,
   "metadata": {
    "scrolled": true
   },
   "outputs": [],
   "source": [
    "n_relevant=20000\n",
    "plt.plot(range(0,len(rank)), rank)\n",
    "print(np.argmax(rank),hostnames[np.argmax(rank)], np.max(rank))\n",
    "\n",
    "indices = (-rank).argsort()[:n_relevant]\n",
    "print(indices[1])\n",
    "relevant_hostnames=[]\n",
    "for index in indices:\n",
    "    relevant_hostnames.append(hostnames[index])\n",
    "indices=np.append(indices, len(rank))\n",
    "print(indices[-1])\n",
    "new_R=slice_matrix(R, indices)\n",
    "print(type(new_R))"
   ]
  },
  {
   "cell_type": "code",
   "execution_count": null,
   "metadata": {},
   "outputs": [],
   "source": [
    "def PRM_iteration(old_prm,R,n,alpha):\n",
    "    P=(1-alpha)*R.T #allocations reduced and scipy code is used\n",
    "    new_prm=alpha/n*np.eye(n)+(P.dot(old_prm.T)).T\n",
    "    return new_prm"
   ]
  },
  {
   "cell_type": "code",
   "execution_count": null,
   "metadata": {},
   "outputs": [],
   "source": [
    "def compute_PRM(alpha,epsilon,R):\n",
    "    n=R.get_shape()[0]\n",
    "    print(n)\n",
    "    x=np.random.rand(n,n)\n",
    "    x/=x.sum()\n",
    "    err=np.inf\n",
    "    while(err>epsilon):\n",
    "        x_new=PRM_iteration(x,R,n,alpha)\n",
    "        err=(abs(x_new-x)).sum()\n",
    "        print(f\"Error:{err}\")\n",
    "        x=x_new\n",
    "    return x.sum(axis=0)"
   ]
  },
  {
   "cell_type": "code",
   "execution_count": null,
   "metadata": {},
   "outputs": [],
   "source": [
    "PRM=compute_PRM(0.2,0.01,new_R)"
   ]
  },
  {
   "cell_type": "code",
   "execution_count": null,
   "metadata": {},
   "outputs": [],
   "source": [
    "PRM"
   ]
  },
  {
   "cell_type": "code",
   "execution_count": null,
   "metadata": {},
   "outputs": [],
   "source": [
    "new_rank=np.squeeze(np.asarray(PRM))"
   ]
  },
  {
   "cell_type": "code",
   "execution_count": null,
   "metadata": {},
   "outputs": [],
   "source": [
    "new_rank=new_rank[:-1]/new_rank[:-1].sum()"
   ]
  },
  {
   "cell_type": "code",
   "execution_count": null,
   "metadata": {},
   "outputs": [],
   "source": [
    "plt.plot(range(0,len(new_rank)), new_rank)\n",
    "print(relevant_hostnames[np.argmax(new_rank)],np.argmax(new_rank), np.max(new_rank))\n",
    "print(new_R)\n",
    "indices = (-new_rank).argsort()[:20]\n",
    "print\n",
    "for i in indices:\n",
    "    print(relevant_hostnames[i])"
   ]
  }
 ],
 "metadata": {
  "kernelspec": {
   "display_name": "Python 3",
   "language": "python",
   "name": "python3"
  },
  "language_info": {
   "codemirror_mode": {
    "name": "ipython",
    "version": 3
   },
   "file_extension": ".py",
   "mimetype": "text/x-python",
   "name": "python",
   "nbconvert_exporter": "python",
   "pygments_lexer": "ipython3",
   "version": "3.6.9"
  }
 },
 "nbformat": 4,
 "nbformat_minor": 4
}
